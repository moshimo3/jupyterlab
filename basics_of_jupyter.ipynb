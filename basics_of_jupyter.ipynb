{
 "cells": [
  {
   "cell_type": "markdown",
   "metadata": {},
   "source": [
    "# Basics of Jupyter "
   ]
  },
  {
   "cell_type": "markdown",
   "metadata": {},
   "source": [
    "## First fetch the source\n",
    "\n",
    "```bash\n",
    "$ git clone https://github.com/coderefinery/jupyterlab.git\n",
    "$ cd jupyterlab  \n",
    "$ jupyter-lab\n",
    "```"
   ]
  },
  {
   "cell_type": "markdown",
   "metadata": {},
   "source": [
    "## Some history\n",
    "- In 2014, Fernando Pérez announced a spin-off project from IPython called Project Jupyter, moving the notebook and other language-agnostic parts of IPython to Jupyter\n",
    "- JupyterLab is the next generation interface for Project Jupyter, the first stable release was announced in February 2018.\n",
    "- [The popularity of Jupyter is steadily increasing in sciences](https://www.nature.com/articles/d41586-018-07196-1).\n",
    "- The name \"Jupyter\" derives from Julia+Python+R, but today Jupyter kernels exist for [dozens of programming languages](https://github.com/jupyter/jupyter/wiki/Jupyter-kernels)\n",
    "- Galileo's publication in a pamphlet in 1610 in Sidereus Nuncius, one of the first notebooks!  \n",
    "<img src=\"http://media.gettyimages.com/photos/pages-from-sidereus-nuncius-magna-by-galileo-galilei-a-book-of-and-picture-id90732970\" width=\"500\">\n",
    "\n",
    "- Project Jupyter consists of several very large open source projects. For example, JupyterLab has: \n",
    "    - ~4 years of development\n",
    "    - ~60 separate components\n",
    "    - ~150 contributors \n",
    "    - ~14000 commits\n",
    "    - currently a beta release, but stable interface and developer API (\"user 1.0\")"
   ]
  },
  {
   "cell_type": "markdown",
   "metadata": {},
   "source": [
    "## A case example \n",
    "\n",
    "Let us have a look at the analysis published together with the discovery of gravitational waves. [This page](https://losc.ligo.org/tutorials/)\n",
    "lists the available analyses and presents several options to browse them: \n",
    "- Download zip-file with source and data\n",
    "- Open the notebooks on [Microsoft Azure Notebooks].(https://notebooks.azure.com/losc/libraries/tutorials) platform.\n",
    "- Open the notebooks on [mybinder](http://beta.mybinder.org/repo/losc-tutorial/quickview).\n",
    "\n",
    "Since Microsoft Azure requires a login to run the notebooks live (which is still free), we can try running the \"Quickview Notebook\" on mybinder, [here's a direct link](http://beta.mybinder.org/repo/losc-tutorial/quickview).\n",
    "\n",
    "> For further examples, head over to the [Gallery of interesting Jupyter Notebooks](https://github.com/jupyter/jupyter/wiki/A-gallery-of-interesting-Jupyter-Notebooks)\n"
   ]
  },
  {
   "cell_type": "markdown",
   "metadata": {},
   "source": [
    "## Navigating JupyterLab\n",
    "\n",
    "- Left-hand menu (toggle it with `Ctrl(⌘)-b`):\n",
    "     - File browser\n",
    "         - New launcher\n",
    "         - New folder\n",
    "         - Upload files\n",
    "     - Running terminals and kernels\n",
    "     - Command palette\n",
    "     - Cell inspector\n",
    "     - Open tabs    \n",
    "- Fully-fledged terminal \n",
    "- Text editor for source code in different languages\n",
    "- Code console to run code interactively in a kernel with rich output and linear order\n",
    "- Modular interface\n",
    "     - Notebooks, terminals, consoles, data files etc can be moved around\n",
    "- Classical notebook style is available under the Help menu\n",
    " "
   ]
  },
  {
   "cell_type": "markdown",
   "metadata": {},
   "source": [
    "## Cells\n",
    "\n",
    "- **Markdown cells** contain formatted text written in Markdown \n",
    "- **Code cells** contain code to be interpreted by the *kernel* (Python, R, Julia, Octave/Matlab...)\n",
    "\n",
    "![Components](img/notebook_components.png)"
   ]
  },
  {
   "cell_type": "markdown",
   "metadata": {},
   "source": [
    "## Markdown cells\n",
    "\n",
    "This cell contains simple \n",
    "[markdown](https://daringfireball.net/projects/markdown/syntax), a simple language for writing text that can be automatically converted to other formats, e.g. HTML, LaTeX or any of a number of others.\n",
    "\n",
    "**Bold**, *italics*, **_combined_**, ~~strikethrough~~, `inline code`.\n",
    "\n",
    "* bullet points\n",
    "\n",
    "or\n",
    "\n",
    "1. numbered\n",
    "3. lists\n",
    "\n",
    "**Equations:**   \n",
    "inline $e^{i\\pi} + 1 = 0$\n",
    "or on new line  \n",
    "$$e^{i\\pi} + 1 = 0$$\n",
    "\n",
    "Images ![CodeRefinery Logo](img/coderefinery.png)\n",
    "\n",
    "Links:  \n",
    "[One of many markdown cheat-sheets](https://github.com/adam-p/markdown-here/wiki/Markdown-Cheatsheet#emphasis)\n"
   ]
  },
  {
   "cell_type": "markdown",
   "metadata": {},
   "source": [
    "## Code cells"
   ]
  },
  {
   "cell_type": "code",
   "execution_count": null,
   "metadata": {},
   "outputs": [],
   "source": [
    "# a code cell can run statements of code.\n",
    "# when you run this cell, the output is sent \n",
    "# from the web page to a back-end process, run \n",
    "# and the results are displayed to you\n",
    "print(\"hello world\")"
   ]
  },
  {
   "cell_type": "markdown",
   "metadata": {},
   "source": [
    "### Shell commands\n",
    "  - You can run shell commands by prepending with !\n",
    "    - On Windows, GitBash needs to have the following option enabled:   \n",
    "    `Use Git and the optional Unix tools from the Windows Command Prompt` \n",
    "  - Make sure your cell command doesn't require interaction"
   ]
  },
  {
   "cell_type": "code",
   "execution_count": null,
   "metadata": {},
   "outputs": [],
   "source": [
    "!echo \"hello\""
   ]
  },
  {
   "cell_type": "code",
   "execution_count": null,
   "metadata": {},
   "outputs": [],
   "source": [
    "!pip list"
   ]
  },
  {
   "cell_type": "markdown",
   "metadata": {},
   "source": [
    " - Common linux shell commands are also available as *magics*: %ls, %pwd, %mkdir, %cp, %mv, %cd, *etc.*. More on magics [in the next notebook](#data_analysis_visualization.ipynb)."
   ]
  },
  {
   "cell_type": "markdown",
   "metadata": {},
   "source": [
    "## Interactive plotting"
   ]
  },
  {
   "cell_type": "markdown",
   "metadata": {},
   "source": [
    "Jupyter supports interactive plotting with matplotlib and other visualization libraries (including for other languages). "
   ]
  },
  {
   "cell_type": "code",
   "execution_count": null,
   "metadata": {},
   "outputs": [],
   "source": [
    "%matplotlib inline\n",
    "\n",
    "x = np.linspace(0,2*np.pi,100)\n",
    "y = np.sin(x)\n",
    "plt.plot(x,y, 'r-')\n",
    "plt.show()"
   ]
  },
  {
   "cell_type": "markdown",
   "metadata": {},
   "source": [
    "### Let us look into some Jupyter features\n",
    "- Toggle between code and markdown cells\n",
    "- Edit mode and Command mode\n",
    "- Executing a cell\n",
    "- Inserting, copying, pasting and removing cells\n",
    "- Execution order - prompt numbers\n",
    "- Getting help with ?\n",
    "- `%quickref` gives an overview of Jupyter features"
   ]
  },
  {
   "cell_type": "code",
   "execution_count": null,
   "metadata": {},
   "outputs": [],
   "source": [
    "%quickref"
   ]
  },
  {
   "cell_type": "code",
   "execution_count": null,
   "metadata": {},
   "outputs": [],
   "source": [
    "# demo here"
   ]
  },
  {
   "cell_type": "markdown",
   "metadata": {},
   "source": [
    "### <font color=\"red\"> *Exercise 1.1* </font>"
   ]
  },
  {
   "cell_type": "markdown",
   "metadata": {},
   "source": [
    "Spend a few minutes playing around with the JupyterLab interface, markdown and code cells, terminals and consoles:\n",
    "1. Go to the File browser, select New launcher, and create a new notebook.\n",
    "2. Drag the notebook so that it's by the side (or below) this notebook.\n",
    "3. Drag this cell into the new notebook.\n",
    "4. Create a markdown cell in the new notebook, and add a heading along with some bullet points and text.\n",
    "5. Add another cell, and make it a code cell. Write some simple code which returns output (e.g. `print(\"hello world!\")`).\n",
    "6. Test some of the keyboard shortcuts listed below.\n",
    "7. Use the `Commands` palette from the left hand menu (`Ctrl(⌘)-Shift-C`) to open a new terminal.\n",
    "\n",
    "Here are some useful hints:\n",
    "* You can edit the cell by clicking on it, or pressing `Enter` when it's selected.\n",
    "* You can run the cell by pressing the play-button in the toolbar, or press `Shift-Enter`.\n",
    "* You can change the type of the cell from the toolbar, or press `m` for Markdown and `y` for code.\n",
    "\n",
    "**Questions**\n",
    "* What is the difference between executing a cell with `Shift-Enter`, `Ctrl-Enter` or `Alt-Enter`?\n",
    "\n",
    "> *If you finish this exercise and want another challenge, go to exercise 1.2 below*\n"
   ]
  },
  {
   "cell_type": "markdown",
   "metadata": {},
   "source": [
    "### Keyboard shortcuts \n",
    "\n",
    "Some shortcuts only work in Command or Edit mode.\n",
    "\n",
    "#### Cells\n",
    "| Shortcut | Effect |\n",
    "| -------- | ------ |\n",
    "| `Enter` | Enter Edit mode |\n",
    "|`Escape` or `Ctrl`-`m` | Enter Command mode |\n",
    "| `Ctrl`-`Enter` | Run the cell |\n",
    "| `Shift`-`Enter`| Run the cell and select the cell below |\n",
    "| `Alt`-`Enter`| Run the cell and insert a new cell below |\n",
    "| `m` and `y` | Toggle between Markdown and Code cells (Command mode) |\n",
    "| `d-d` | Delete a cell (Command mode) |\n",
    "| `z` | Undo deleting (Command mode) |\n",
    "| `a/b` | Insert cells above/below current cell (Command mode) |\n",
    "| `x/c/v` | Cut/copy/paste cells (Command mode) |\n",
    "| `Up/Down` or `k/j` | Select previous/next cells (Command mode) |\n",
    "\n",
    "#### Notebooks / UI\n",
    "| Shortcut | Effect |\n",
    "| -------- | ------ |\n",
    "| `Ctrl(⌘)`-`s` | Save notebook |\n",
    "| `Shift`-`Ctrl(⌘)`-`s` | Save notebook as |\n",
    "| `Ctrl`-q | Close notebook |\n",
    "| `Ctrl(⌘)`-`b` | Toggle left-hand menu |\n",
    "| `Shift`-`Ctrl(⌘)`-`c` | Open command palette |\n",
    "| `Shift`-`Ctrl(⌘)`-d | Toggle single-document mode |\n"
   ]
  },
  {
   "cell_type": "markdown",
   "metadata": {},
   "source": [
    "<a id=\"exercise_git\"></a>\n",
    "### <font color=\"red\"> *Exercise 1.2* </font>\n",
    "\n",
    "Practice version control of notebooks using the following steps:\n",
    "\n",
    "1. Launch a terminal and place it below your new notebook.\n",
    "2. Run `git add <name-of-your-notebook>`.\n",
    "3. Run `git diff --staged <name-of-your-notebook>`.\n",
    "4. Try to make sense of the output.\n",
    "\n",
    "The json file format of notebooks doesn't play nicely with version control, but a tool called `nbdime` has been developed.\n",
    "\n",
    "**Optional step:**\n",
    "\n",
    "* Install `nbdime`, activate `nbdime` with git, and rerun `git diff --staged`. Detailed instructions further down in this notebook, [click here to get there](#Version-control-of-notebooks).\n",
    "* After installing `nbdime`, two \"Git buttons\" appear in the toolbar. Try them!"
   ]
  },
  {
   "cell_type": "markdown",
   "metadata": {},
   "source": [
    "## When not to use notebooks?\n",
    "\n",
    "- Large codebases are difficult to manage in notebooks.\n",
    "- More difficult to follow good software development practices:\n",
    "    - Doesn't play well with version control (see below).\n",
    "    - Not as easy to do automated testing.\n",
    "    - Not as useful as IDE to ensure PEP8-compliance.\n",
    "    - Non-linear execution of cells can lead to strange bugs, discipline needed!\n",
    "    "
   ]
  },
  {
   "cell_type": "markdown",
   "metadata": {},
   "source": [
    "## Version control of notebooks\n",
    "Jupyter Notebooks are stored in json format, which is easy to parse but basic diff and merge tools do not handle it well.  \n",
    "This reduces the power of version control systems like Git. Tools like [nbdime](http://nbdime.readthedocs.io/en/latest/) provide \"content-aware\" diffing and merging"
   ]
  },
  {
   "cell_type": "markdown",
   "metadata": {},
   "source": [
    "- nbdime can be installed with `pip install nbdime` or `conda install nbdime` \n",
    "- To diff two notebooks in terminal do `nbdiff notebook_1.ipynb notebook_2.ipynb`\n",
    "- Or if you want a rich web-based rendering: `nbdiff-web notebook_1.ipynb notebook_2.ipynb`\n",
    "- To integrate nbdime with Git, type `nbdime config-git --enable --global`  \n",
    "(this will leave Git's behavior unchanged for non-notebook files, but use nbdime's diff and merge for notebook .ipynb files)\n",
    "- [Click here to get back to exercise 1.2](#exercise_git)"
   ]
  },
  {
   "cell_type": "markdown",
   "metadata": {},
   "source": [
    "## Key points\n",
    "- Jupyter Notebooks excels at [literate programming](https://en.wikipedia.org/wiki/Literate_programming)\n",
    "- Code, text, equations, figures, etc. can be interleaved, creating a *computational narrative*\n",
    "- Many features of IDEs: code completion, easy access to help\n",
    "- Keyboard shortcuts can save you time and protect your wrists\n",
    "- Cells can be executed in any order, beware of out-of-order execution bugs!\n",
    "- Jupyter is great for some tasks, terrible for others\n",
    "- Notebook diffs don't look great which affects version control, but `nbdime` helps\n",
    "\n",
    "\n",
    "\n"
   ]
  },
  {
   "cell_type": "code",
   "execution_count": null,
   "metadata": {},
   "outputs": [],
   "source": []
  }
 ],
 "metadata": {
  "kernelspec": {
   "display_name": "Python 3",
   "language": "python",
   "name": "python3"
  },
  "language_info": {
   "codemirror_mode": {
    "name": "ipython",
    "version": 3
   },
   "file_extension": ".py",
   "mimetype": "text/x-python",
   "name": "python",
   "nbconvert_exporter": "python",
   "pygments_lexer": "ipython3",
   "version": "3.7.1"
  }
 },
 "nbformat": 4,
 "nbformat_minor": 2
}
